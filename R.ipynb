{
 "cells": [
  {
   "cell_type": "code",
   "execution_count": null,
   "id": "138ba435-1a43-42e2-be65-915a497c17c8",
   "metadata": {},
   "outputs": [],
   "source": [
    "df = read.csv(\"numbers.csv\", header=TRUE)\n",
    "df = df[, c(\"x\",\"y\")]\n",
    "df"
   ]
  },
  {
   "cell_type": "code",
   "execution_count": null,
   "id": "1e9ac207-3bc1-4a11-9f64-d556e9805df1",
   "metadata": {},
   "outputs": [],
   "source": [
    "install.packages(\"gplots\")"
   ]
  },
  {
   "cell_type": "code",
   "execution_count": null,
   "id": "7536bf3d-9474-4e42-b307-286b843edfac",
   "metadata": {},
   "outputs": [],
   "source": [
    "library(gplots)"
   ]
  },
  {
   "cell_type": "code",
   "execution_count": null,
   "id": "b15db9be-fa4d-41e8-8897-94d9a8c9594a",
   "metadata": {},
   "outputs": [],
   "source": [
    "histogram = hist2d(df[[\"y\"]], df[[\"x\"]], nbins=25)"
   ]
  }
 ],
 "metadata": {
  "kernelspec": {
   "display_name": "R",
   "language": "R",
   "name": "ir"
  },
  "language_info": {
   "codemirror_mode": "r",
   "file_extension": ".r",
   "mimetype": "text/x-r-source",
   "name": "R",
   "pygments_lexer": "r",
   "version": "4.1.1"
  }
 },
 "nbformat": 4,
 "nbformat_minor": 5
}
