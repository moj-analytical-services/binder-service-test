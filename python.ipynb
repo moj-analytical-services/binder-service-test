{
 "cells": [
  {
   "cell_type": "code",
   "execution_count": null,
   "id": "a2febfc0-00f2-42eb-836a-dfd6a1784663",
   "metadata": {},
   "outputs": [],
   "source": [
    "import duckdb\n",
    "import pandas as pd\n",
    "import pytest\n",
    "from datetime import datetime, date\n",
    "\n",
    "# For creating data sets\n",
    "import random"
   ]
  },
  {
   "cell_type": "code",
   "execution_count": null,
   "id": "a4453ff1-b0af-4740-9b28-a7417af6a9bf",
   "metadata": {},
   "outputs": [],
   "source": [
    "# Build a big dataframe and write to csv\n",
    "data_points = 10000\n",
    "data = pd.DataFrame({\n",
    "    \"i\": [bin(i) for i in range(data_points)],\n",
    "    \"x\": [random.random() for i in range(data_points)],\n",
    "    \"y\": [random.normalvariate(0, 0.3) for i in range(data_points)],\n",
    "\n",
    "})\n",
    "data.to_csv(\"numbers.csv\", encoding='utf-8', index=False, header=True)"
   ]
  },
  {
   "cell_type": "code",
   "execution_count": null,
   "id": "267e26fe-1d84-4ac3-addf-2d8650114826",
   "metadata": {},
   "outputs": [],
   "source": [
    "# Import csv and plot a graph - install package at runtime!\n",
    "df = pd.read_csv(\"numbers.csv\")\n",
    "df.tail(2)"
   ]
  },
  {
   "cell_type": "code",
   "execution_count": null,
   "id": "2de0ca27-87dc-474e-a865-9e6b9b198fdf",
   "metadata": {},
   "outputs": [],
   "source": [
    "!pip install matplotlib"
   ]
  },
  {
   "cell_type": "code",
   "execution_count": null,
   "id": "48d89503-6163-430a-a5da-31f6a84f4876",
   "metadata": {},
   "outputs": [],
   "source": [
    "import matplotlib.pyplot as plt\n",
    "\n",
    "fig, ax = plt.subplots(tight_layout=True)\n",
    "hist = ax.hist2d(data.y, data.x, bins=25)\n",
    "\n",
    "plt.show()"
   ]
  },
  {
   "cell_type": "code",
   "execution_count": null,
   "id": "88359987-10c2-4647-9fa6-5ec34bda3275",
   "metadata": {},
   "outputs": [],
   "source": [
    "# Test encrypted data read\n",
    "from cryptography.fernet import Fernet\n",
    "import io\n",
    "\n",
    "encrypted_file = \"assessment_data.csv\"\n",
    "key = \"\"\n",
    "\n",
    "with open(encrypted_file, \"rb\") as f:\n",
    "    ec_file = f.read()\n",
    "\n",
    "fernet = Fernet(key)\n",
    "dc = fernet.decrypt(ec_file)\n",
    "data = pd.read_csv(io.StringIO(dc.decode(\"utf-8\")))\n",
    "data"
   ]
  },
  {
   "cell_type": "code",
   "execution_count": null,
   "id": "fb841dc6-5f15-4f2d-a470-cffa224abada",
   "metadata": {},
   "outputs": [],
   "source": []
  }
 ],
 "metadata": {
  "kernelspec": {
   "display_name": "binder_service_test",
   "language": "python",
   "name": "venv_binder_service_test"
  },
  "language_info": {
   "codemirror_mode": {
    "name": "ipython",
    "version": 3
   },
   "file_extension": ".py",
   "mimetype": "text/x-python",
   "name": "python",
   "nbconvert_exporter": "python",
   "pygments_lexer": "ipython3",
   "version": "3.9.6"
  }
 },
 "nbformat": 4,
 "nbformat_minor": 5
}
